{
 "cells": [
  {
   "cell_type": "code",
   "execution_count": 11,
   "metadata": {},
   "outputs": [
    {
     "name": "stdout",
     "output_type": "stream",
     "text": [
      "[15.49555555 17.19349423]\n"
     ]
    }
   ],
   "source": [
    "import numpy as np\n",
    "# Hidden layer class\n",
    "class Hidden:\n",
    "    def __init__(self,dim_in = 1, dim_out = 1):\n",
    "        self.weight = np.random.rand(dim_in,dim_out)\n",
    "        self.bias = np.random.rand(dim_out)\n",
    "        \n",
    "    def forward(self, input):\n",
    "        return np.array(input).dot(self.weight) + self.bias\n",
    "    \n",
    "    \n",
    "    \n",
    "# Activatino class    \n",
    "class Activation: \n",
    "    def __init__(self,activation = \"relu\"):\n",
    "        self.activation = activation\n",
    "    \n",
    "    def forward(self,input):\n",
    "        if self.activation == 'relu':\n",
    "            return np.where(input<0, 0, input)\n",
    "        else: \n",
    "            return input\n",
    "        \n",
    "        \n",
    "        \n",
    "# Network class    \n",
    "class Network:\n",
    "    def __init__(self,hidden_cofig):\n",
    "        self.layer = hidden_cofig\n",
    "        self.net = {}\n",
    "        \n",
    "    def make_network(self):\n",
    "        for idx in range(len(self.layer)-1):\n",
    "            \n",
    "            self.net[str(idx)] = Hidden(self.layer[idx], self.layer[idx+1])\n",
    "            self.net[str(idx)+'relu'] = Activation('relu')\n",
    "            \n",
    "    def propagate(self, input):\n",
    "        for key, layer in self.net.items():\n",
    "            input = layer.forward(input)\n",
    "        return input\n",
    "\n",
    "# Network Configuration\n",
    "# A list of intigers, indicating the number of neurons in each hidden layer\n",
    "#First item indicates size of input neurons \n",
    "\n",
    "network_config = [12,3,5,2]\n",
    "#random input\n",
    "input_data = np.random.rand(12)\n",
    "#define network\n",
    "my_net = Network(network_config)\n",
    "#initialize network layers\n",
    "my_net.make_network()\n",
    "#perform feedforward propagation\n",
    "Output_layer = my_net.propagate(input_data)\n",
    "print(Output_layer)"
   ]
  },
  {
   "cell_type": "markdown",
   "metadata": {},
   "source": []
  },
  {
   "cell_type": "code",
   "execution_count": null,
   "metadata": {},
   "outputs": [],
   "source": []
  }
 ],
 "metadata": {
  "kernelspec": {
   "display_name": "Python 3",
   "language": "python",
   "name": "python3"
  },
  "language_info": {
   "codemirror_mode": {
    "name": "ipython",
    "version": 3
   },
   "file_extension": ".py",
   "mimetype": "text/x-python",
   "name": "python",
   "nbconvert_exporter": "python",
   "pygments_lexer": "ipython3",
   "version": "3.7.6"
  }
 },
 "nbformat": 4,
 "nbformat_minor": 4
}
